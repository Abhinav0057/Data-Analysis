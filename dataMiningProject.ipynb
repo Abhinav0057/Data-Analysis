{
  "nbformat": 4,
  "nbformat_minor": 0,
  "metadata": {
    "colab": {
      "name": "dataMiningProject.ipynb",
      "provenance": [],
      "collapsed_sections": [],
      "authorship_tag": "ABX9TyMudgcINI5IVYjywXmYK1z5",
      "include_colab_link": true
    },
    "kernelspec": {
      "name": "python3",
      "display_name": "Python 3"
    },
    "language_info": {
      "name": "python"
    }
  },
  "cells": [
    {
      "cell_type": "markdown",
      "metadata": {
        "id": "view-in-github",
        "colab_type": "text"
      },
      "source": [
        "<a href=\"https://colab.research.google.com/github/Abhinav0057/test/blob/master/dataMiningProject.ipynb\" target=\"_parent\"><img src=\"https://colab.research.google.com/assets/colab-badge.svg\" alt=\"Open In Colab\"/></a>"
      ]
    },
    {
      "cell_type": "code",
      "metadata": {
        "id": "xla00AeT4L9h"
      },
      "source": [
        "import pandas as pd\n",
        "import numpy as np\n",
        "from matplotlib import pyplot as plt"
      ],
      "execution_count": 80,
      "outputs": []
    },
    {
      "cell_type": "code",
      "metadata": {
        "id": "h4XTKwAw4UzS"
      },
      "source": [
        "url1='https://raw.githubusercontent.com/Abhinav0057/test/master/merolagani.csv'\n",
        "url2='https://raw.githubusercontent.com/Abhinav0057/test/master/Book1.csv'"
      ],
      "execution_count": 81,
      "outputs": []
    },
    {
      "cell_type": "code",
      "metadata": {
        "colab": {
          "base_uri": "https://localhost:8080/",
          "height": 204
        },
        "id": "zPrYXPYy5Lzl",
        "outputId": "ededfafd-2a09-477c-9072-614ce7f90d46"
      },
      "source": [
        "df1 = pd.read_csv(url1)\n",
        "df1.head()"
      ],
      "execution_count": 82,
      "outputs": [
        {
          "output_type": "execute_result",
          "data": {
            "text/html": [
              "<div>\n",
              "<style scoped>\n",
              "    .dataframe tbody tr th:only-of-type {\n",
              "        vertical-align: middle;\n",
              "    }\n",
              "\n",
              "    .dataframe tbody tr th {\n",
              "        vertical-align: top;\n",
              "    }\n",
              "\n",
              "    .dataframe thead th {\n",
              "        text-align: right;\n",
              "    }\n",
              "</style>\n",
              "<table border=\"1\" class=\"dataframe\">\n",
              "  <thead>\n",
              "    <tr style=\"text-align: right;\">\n",
              "      <th></th>\n",
              "      <th>S.N.</th>\n",
              "      <th>Date</th>\n",
              "      <th>Index</th>\n",
              "      <th>Absolute Change</th>\n",
              "      <th>Percentage Change</th>\n",
              "    </tr>\n",
              "  </thead>\n",
              "  <tbody>\n",
              "    <tr>\n",
              "      <th>0</th>\n",
              "      <td>1</td>\n",
              "      <td>2019/05/28</td>\n",
              "      <td>1,305.49</td>\n",
              "      <td>2.53</td>\n",
              "      <td>0.1945%</td>\n",
              "    </tr>\n",
              "    <tr>\n",
              "      <th>1</th>\n",
              "      <td>2</td>\n",
              "      <td>2019/05/27</td>\n",
              "      <td>1,302.96</td>\n",
              "      <td>0.34</td>\n",
              "      <td>0.0262%</td>\n",
              "    </tr>\n",
              "    <tr>\n",
              "      <th>2</th>\n",
              "      <td>3</td>\n",
              "      <td>2019/05/26</td>\n",
              "      <td>1,302.61</td>\n",
              "      <td>-11.93</td>\n",
              "      <td>-0.9077%</td>\n",
              "    </tr>\n",
              "    <tr>\n",
              "      <th>3</th>\n",
              "      <td>4</td>\n",
              "      <td>2019/05/23</td>\n",
              "      <td>1,314.55</td>\n",
              "      <td>-5.08</td>\n",
              "      <td>-0.3853%</td>\n",
              "    </tr>\n",
              "    <tr>\n",
              "      <th>4</th>\n",
              "      <td>5</td>\n",
              "      <td>2019/05/22</td>\n",
              "      <td>1,319.63</td>\n",
              "      <td>7.49</td>\n",
              "      <td>0.571%</td>\n",
              "    </tr>\n",
              "  </tbody>\n",
              "</table>\n",
              "</div>"
            ],
            "text/plain": [
              "   S.N.        Date     Index  Absolute Change Percentage Change\n",
              "0     1  2019/05/28  1,305.49             2.53           0.1945%\n",
              "1     2  2019/05/27  1,302.96             0.34           0.0262%\n",
              "2     3  2019/05/26  1,302.61           -11.93          -0.9077%\n",
              "3     4  2019/05/23  1,314.55            -5.08          -0.3853%\n",
              "4     5  2019/05/22  1,319.63             7.49            0.571%"
            ]
          },
          "metadata": {
            "tags": []
          },
          "execution_count": 82
        }
      ]
    },
    {
      "cell_type": "code",
      "metadata": {
        "colab": {
          "base_uri": "https://localhost:8080/",
          "height": 204
        },
        "id": "rvApzWRR5QkV",
        "outputId": "c5d3dd7d-d61c-49f0-f3ba-bb395d6818e4"
      },
      "source": [
        "df2 = pd.read_csv(url2,names=['S.N.','Date','Index','Absolute Change','Percentage Change'])\n",
        "df2.head()"
      ],
      "execution_count": 83,
      "outputs": [
        {
          "output_type": "execute_result",
          "data": {
            "text/html": [
              "<div>\n",
              "<style scoped>\n",
              "    .dataframe tbody tr th:only-of-type {\n",
              "        vertical-align: middle;\n",
              "    }\n",
              "\n",
              "    .dataframe tbody tr th {\n",
              "        vertical-align: top;\n",
              "    }\n",
              "\n",
              "    .dataframe thead th {\n",
              "        text-align: right;\n",
              "    }\n",
              "</style>\n",
              "<table border=\"1\" class=\"dataframe\">\n",
              "  <thead>\n",
              "    <tr style=\"text-align: right;\">\n",
              "      <th></th>\n",
              "      <th>S.N.</th>\n",
              "      <th>Date</th>\n",
              "      <th>Index</th>\n",
              "      <th>Absolute Change</th>\n",
              "      <th>Percentage Change</th>\n",
              "    </tr>\n",
              "  </thead>\n",
              "  <tbody>\n",
              "    <tr>\n",
              "      <th>0</th>\n",
              "      <td>1</td>\n",
              "      <td>7/13/2021</td>\n",
              "      <td>2,871.04</td>\n",
              "      <td>16.34</td>\n",
              "      <td>0.57%</td>\n",
              "    </tr>\n",
              "    <tr>\n",
              "      <th>1</th>\n",
              "      <td>2</td>\n",
              "      <td>7/12/2021</td>\n",
              "      <td>2,854.77</td>\n",
              "      <td>-45.06</td>\n",
              "      <td>-1.55%</td>\n",
              "    </tr>\n",
              "    <tr>\n",
              "      <th>2</th>\n",
              "      <td>3</td>\n",
              "      <td>7/11/2021</td>\n",
              "      <td>2,899.82</td>\n",
              "      <td>74.71</td>\n",
              "      <td>2.64%</td>\n",
              "    </tr>\n",
              "    <tr>\n",
              "      <th>3</th>\n",
              "      <td>4</td>\n",
              "      <td>7/8/2021</td>\n",
              "      <td>2,824.90</td>\n",
              "      <td>23.76</td>\n",
              "      <td>0.85%</td>\n",
              "    </tr>\n",
              "    <tr>\n",
              "      <th>4</th>\n",
              "      <td>5</td>\n",
              "      <td>7/7/2021</td>\n",
              "      <td>2,801.13</td>\n",
              "      <td>-16.97</td>\n",
              "      <td>-0.60%</td>\n",
              "    </tr>\n",
              "  </tbody>\n",
              "</table>\n",
              "</div>"
            ],
            "text/plain": [
              "   S.N.       Date     Index  Absolute Change Percentage Change\n",
              "0     1  7/13/2021  2,871.04            16.34             0.57%\n",
              "1     2  7/12/2021  2,854.77           -45.06            -1.55%\n",
              "2     3  7/11/2021  2,899.82            74.71             2.64%\n",
              "3     4   7/8/2021  2,824.90            23.76             0.85%\n",
              "4     5   7/7/2021  2,801.13           -16.97            -0.60%"
            ]
          },
          "metadata": {
            "tags": []
          },
          "execution_count": 83
        }
      ]
    },
    {
      "cell_type": "code",
      "metadata": {
        "colab": {
          "base_uri": "https://localhost:8080/"
        },
        "id": "cZ7tEQe95V6-",
        "outputId": "d7f37911-8393-4d6c-f853-3a01c1c79b68"
      },
      "source": [
        "#a=df1.head(0)\n",
        "#b=df2.head(0)\n",
        "print(df1.columns.intersection(df2.columns))\n",
        "print(\"Okay we have the same headers now lets commbine and remoe the same data\")"
      ],
      "execution_count": 84,
      "outputs": [
        {
          "output_type": "stream",
          "text": [
            "Index(['S.N.', 'Date', 'Index', 'Absolute Change', 'Percentage Change'], dtype='object')\n",
            "Okay we have the same headers now lets commbine and remoe the same data\n"
          ],
          "name": "stdout"
        }
      ]
    },
    {
      "cell_type": "code",
      "metadata": {
        "colab": {
          "base_uri": "https://localhost:8080/",
          "height": 297
        },
        "id": "BfUDjK3a8hMY",
        "outputId": "cf9d491c-fe94-44c3-84f0-037bd934ce2c"
      },
      "source": [
        "df2.describe()"
      ],
      "execution_count": 85,
      "outputs": [
        {
          "output_type": "execute_result",
          "data": {
            "text/html": [
              "<div>\n",
              "<style scoped>\n",
              "    .dataframe tbody tr th:only-of-type {\n",
              "        vertical-align: middle;\n",
              "    }\n",
              "\n",
              "    .dataframe tbody tr th {\n",
              "        vertical-align: top;\n",
              "    }\n",
              "\n",
              "    .dataframe thead th {\n",
              "        text-align: right;\n",
              "    }\n",
              "</style>\n",
              "<table border=\"1\" class=\"dataframe\">\n",
              "  <thead>\n",
              "    <tr style=\"text-align: right;\">\n",
              "      <th></th>\n",
              "      <th>S.N.</th>\n",
              "      <th>Absolute Change</th>\n",
              "    </tr>\n",
              "  </thead>\n",
              "  <tbody>\n",
              "    <tr>\n",
              "      <th>count</th>\n",
              "      <td>500.000000</td>\n",
              "      <td>500.000000</td>\n",
              "    </tr>\n",
              "    <tr>\n",
              "      <th>mean</th>\n",
              "      <td>250.500000</td>\n",
              "      <td>3.606500</td>\n",
              "    </tr>\n",
              "    <tr>\n",
              "      <th>std</th>\n",
              "      <td>144.481833</td>\n",
              "      <td>26.501208</td>\n",
              "    </tr>\n",
              "    <tr>\n",
              "      <th>min</th>\n",
              "      <td>1.000000</td>\n",
              "      <td>-123.340000</td>\n",
              "    </tr>\n",
              "    <tr>\n",
              "      <th>25%</th>\n",
              "      <td>125.750000</td>\n",
              "      <td>-6.527500</td>\n",
              "    </tr>\n",
              "    <tr>\n",
              "      <th>50%</th>\n",
              "      <td>250.500000</td>\n",
              "      <td>1.620000</td>\n",
              "    </tr>\n",
              "    <tr>\n",
              "      <th>75%</th>\n",
              "      <td>375.250000</td>\n",
              "      <td>14.182500</td>\n",
              "    </tr>\n",
              "    <tr>\n",
              "      <th>max</th>\n",
              "      <td>500.000000</td>\n",
              "      <td>95.460000</td>\n",
              "    </tr>\n",
              "  </tbody>\n",
              "</table>\n",
              "</div>"
            ],
            "text/plain": [
              "             S.N.  Absolute Change\n",
              "count  500.000000       500.000000\n",
              "mean   250.500000         3.606500\n",
              "std    144.481833        26.501208\n",
              "min      1.000000      -123.340000\n",
              "25%    125.750000        -6.527500\n",
              "50%    250.500000         1.620000\n",
              "75%    375.250000        14.182500\n",
              "max    500.000000        95.460000"
            ]
          },
          "metadata": {
            "tags": []
          },
          "execution_count": 85
        }
      ]
    },
    {
      "cell_type": "code",
      "metadata": {
        "colab": {
          "base_uri": "https://localhost:8080/"
        },
        "id": "cdM0GG5n949u",
        "outputId": "b2f0ba1f-6090-405c-cb40-803a303b5de0"
      },
      "source": [
        "#df1['S.N.']=df1['S.N.']+500\n",
        "#only run this once or else it shall be more than 500+\n",
        "if df1['S.N.'][0]==1:\n",
        "  df1['S.N.']=df1['S.N.']+500\n",
        "df1['S.N.'].head()\n"
      ],
      "execution_count": 86,
      "outputs": [
        {
          "output_type": "execute_result",
          "data": {
            "text/plain": [
              "0    501\n",
              "1    502\n",
              "2    503\n",
              "3    504\n",
              "4    505\n",
              "Name: S.N., dtype: int64"
            ]
          },
          "metadata": {
            "tags": []
          },
          "execution_count": 86
        }
      ]
    },
    {
      "cell_type": "code",
      "metadata": {
        "colab": {
          "base_uri": "https://localhost:8080/"
        },
        "id": "50ebLyTPCkGf",
        "outputId": "f56f2f54-475b-429f-aa48-1f8a5b846cf8"
      },
      "source": [
        "df1['Date'].head()"
      ],
      "execution_count": 87,
      "outputs": [
        {
          "output_type": "execute_result",
          "data": {
            "text/plain": [
              "0    2019/05/28\n",
              "1    2019/05/27\n",
              "2    2019/05/26\n",
              "3    2019/05/23\n",
              "4    2019/05/22\n",
              "Name: Date, dtype: object"
            ]
          },
          "metadata": {
            "tags": []
          },
          "execution_count": 87
        }
      ]
    },
    {
      "cell_type": "code",
      "metadata": {
        "colab": {
          "base_uri": "https://localhost:8080/"
        },
        "id": "BARKXTAqCu3c",
        "outputId": "80921153-cd11-478d-c4df-034bea6f9eea"
      },
      "source": [
        "df1['Date']=pd.to_datetime(df1['Date'],format='%Y/%m/%d')\n",
        "df1['Date'].head()"
      ],
      "execution_count": 88,
      "outputs": [
        {
          "output_type": "execute_result",
          "data": {
            "text/plain": [
              "0   2019-05-28\n",
              "1   2019-05-27\n",
              "2   2019-05-26\n",
              "3   2019-05-23\n",
              "4   2019-05-22\n",
              "Name: Date, dtype: datetime64[ns]"
            ]
          },
          "metadata": {
            "tags": []
          },
          "execution_count": 88
        }
      ]
    },
    {
      "cell_type": "code",
      "metadata": {
        "colab": {
          "base_uri": "https://localhost:8080/"
        },
        "id": "fpGJCHxWLFAp",
        "outputId": "d6666be5-47be-4427-b988-3ab05448041a"
      },
      "source": [
        "df2['Date']=pd.to_datetime(df2['Date'])\n",
        "df2['Date'].head()"
      ],
      "execution_count": 89,
      "outputs": [
        {
          "output_type": "execute_result",
          "data": {
            "text/plain": [
              "0   2021-07-13\n",
              "1   2021-07-12\n",
              "2   2021-07-11\n",
              "3   2021-07-08\n",
              "4   2021-07-07\n",
              "Name: Date, dtype: datetime64[ns]"
            ]
          },
          "metadata": {
            "tags": []
          },
          "execution_count": 89
        }
      ]
    },
    {
      "cell_type": "code",
      "metadata": {
        "id": "0CKEm1z3C6yL"
      },
      "source": [
        "#changing df1 date to meet same structure as df2 Date"
      ],
      "execution_count": 90,
      "outputs": []
    },
    {
      "cell_type": "code",
      "metadata": {
        "colab": {
          "base_uri": "https://localhost:8080/"
        },
        "id": "uwAFJN8L-I9U",
        "outputId": "844ffed9-2b16-45c2-aee0-cdf7b816f1aa"
      },
      "source": [
        "df1['S.N.'].head()"
      ],
      "execution_count": 91,
      "outputs": [
        {
          "output_type": "execute_result",
          "data": {
            "text/plain": [
              "0    501\n",
              "1    502\n",
              "2    503\n",
              "3    504\n",
              "4    505\n",
              "Name: S.N., dtype: int64"
            ]
          },
          "metadata": {
            "tags": []
          },
          "execution_count": 91
        }
      ]
    },
    {
      "cell_type": "code",
      "metadata": {
        "id": "Mb5GV7EV-Son"
      },
      "source": [
        "ourFrames=[df2,df1]"
      ],
      "execution_count": 92,
      "outputs": []
    },
    {
      "cell_type": "code",
      "metadata": {
        "colab": {
          "base_uri": "https://localhost:8080/",
          "height": 204
        },
        "id": "uMdB8iAz_HTB",
        "outputId": "4152cfc2-b185-4287-9377-98567441cb62"
      },
      "source": [
        "resultdf = pd.concat(ourFrames)\n",
        "resultdf.head()"
      ],
      "execution_count": 96,
      "outputs": [
        {
          "output_type": "execute_result",
          "data": {
            "text/html": [
              "<div>\n",
              "<style scoped>\n",
              "    .dataframe tbody tr th:only-of-type {\n",
              "        vertical-align: middle;\n",
              "    }\n",
              "\n",
              "    .dataframe tbody tr th {\n",
              "        vertical-align: top;\n",
              "    }\n",
              "\n",
              "    .dataframe thead th {\n",
              "        text-align: right;\n",
              "    }\n",
              "</style>\n",
              "<table border=\"1\" class=\"dataframe\">\n",
              "  <thead>\n",
              "    <tr style=\"text-align: right;\">\n",
              "      <th></th>\n",
              "      <th>S.N.</th>\n",
              "      <th>Date</th>\n",
              "      <th>Index</th>\n",
              "      <th>Absolute Change</th>\n",
              "      <th>Percentage Change</th>\n",
              "    </tr>\n",
              "  </thead>\n",
              "  <tbody>\n",
              "    <tr>\n",
              "      <th>0</th>\n",
              "      <td>1</td>\n",
              "      <td>2021-07-13</td>\n",
              "      <td>2,871.04</td>\n",
              "      <td>16.34</td>\n",
              "      <td>0.57%</td>\n",
              "    </tr>\n",
              "    <tr>\n",
              "      <th>1</th>\n",
              "      <td>2</td>\n",
              "      <td>2021-07-12</td>\n",
              "      <td>2,854.77</td>\n",
              "      <td>-45.06</td>\n",
              "      <td>-1.55%</td>\n",
              "    </tr>\n",
              "    <tr>\n",
              "      <th>2</th>\n",
              "      <td>3</td>\n",
              "      <td>2021-07-11</td>\n",
              "      <td>2,899.82</td>\n",
              "      <td>74.71</td>\n",
              "      <td>2.64%</td>\n",
              "    </tr>\n",
              "    <tr>\n",
              "      <th>3</th>\n",
              "      <td>4</td>\n",
              "      <td>2021-07-08</td>\n",
              "      <td>2,824.90</td>\n",
              "      <td>23.76</td>\n",
              "      <td>0.85%</td>\n",
              "    </tr>\n",
              "    <tr>\n",
              "      <th>4</th>\n",
              "      <td>5</td>\n",
              "      <td>2021-07-07</td>\n",
              "      <td>2,801.13</td>\n",
              "      <td>-16.97</td>\n",
              "      <td>-0.60%</td>\n",
              "    </tr>\n",
              "  </tbody>\n",
              "</table>\n",
              "</div>"
            ],
            "text/plain": [
              "   S.N.       Date     Index  Absolute Change Percentage Change\n",
              "0     1 2021-07-13  2,871.04            16.34             0.57%\n",
              "1     2 2021-07-12  2,854.77           -45.06            -1.55%\n",
              "2     3 2021-07-11  2,899.82            74.71             2.64%\n",
              "3     4 2021-07-08  2,824.90            23.76             0.85%\n",
              "4     5 2021-07-07  2,801.13           -16.97            -0.60%"
            ]
          },
          "metadata": {
            "tags": []
          },
          "execution_count": 96
        }
      ]
    },
    {
      "cell_type": "code",
      "metadata": {
        "colab": {
          "base_uri": "https://localhost:8080/",
          "height": 204
        },
        "id": "Zo_WyQA2_iUf",
        "outputId": "a30426ed-2c1d-44b6-9219-1a1c9f17ed95"
      },
      "source": [
        "resultdf.tail()"
      ],
      "execution_count": 95,
      "outputs": [
        {
          "output_type": "execute_result",
          "data": {
            "text/html": [
              "<div>\n",
              "<style scoped>\n",
              "    .dataframe tbody tr th:only-of-type {\n",
              "        vertical-align: middle;\n",
              "    }\n",
              "\n",
              "    .dataframe tbody tr th {\n",
              "        vertical-align: top;\n",
              "    }\n",
              "\n",
              "    .dataframe thead th {\n",
              "        text-align: right;\n",
              "    }\n",
              "</style>\n",
              "<table border=\"1\" class=\"dataframe\">\n",
              "  <thead>\n",
              "    <tr style=\"text-align: right;\">\n",
              "      <th></th>\n",
              "      <th>S.N.</th>\n",
              "      <th>Date</th>\n",
              "      <th>Index</th>\n",
              "      <th>Absolute Change</th>\n",
              "      <th>Percentage Change</th>\n",
              "    </tr>\n",
              "  </thead>\n",
              "  <tbody>\n",
              "    <tr>\n",
              "      <th>1218</th>\n",
              "      <td>1719</td>\n",
              "      <td>2014-02-06</td>\n",
              "      <td>785.78</td>\n",
              "      <td>4.40</td>\n",
              "      <td>0.56%</td>\n",
              "    </tr>\n",
              "    <tr>\n",
              "      <th>1219</th>\n",
              "      <td>1720</td>\n",
              "      <td>2014-02-05</td>\n",
              "      <td>781.38</td>\n",
              "      <td>6.47</td>\n",
              "      <td>0.83%</td>\n",
              "    </tr>\n",
              "    <tr>\n",
              "      <th>1220</th>\n",
              "      <td>1721</td>\n",
              "      <td>2014-02-04</td>\n",
              "      <td>774.91</td>\n",
              "      <td>5.40</td>\n",
              "      <td>0.7%</td>\n",
              "    </tr>\n",
              "    <tr>\n",
              "      <th>1221</th>\n",
              "      <td>1722</td>\n",
              "      <td>2014-02-03</td>\n",
              "      <td>769.51</td>\n",
              "      <td>-6.41</td>\n",
              "      <td>-0.83%</td>\n",
              "    </tr>\n",
              "    <tr>\n",
              "      <th>1222</th>\n",
              "      <td>1723</td>\n",
              "      <td>2014-02-02</td>\n",
              "      <td>775.92</td>\n",
              "      <td>-5.54</td>\n",
              "      <td>-0.7%</td>\n",
              "    </tr>\n",
              "  </tbody>\n",
              "</table>\n",
              "</div>"
            ],
            "text/plain": [
              "      S.N.       Date   Index  Absolute Change Percentage Change\n",
              "1218  1719 2014-02-06  785.78             4.40             0.56%\n",
              "1219  1720 2014-02-05  781.38             6.47             0.83%\n",
              "1220  1721 2014-02-04  774.91             5.40              0.7%\n",
              "1221  1722 2014-02-03  769.51            -6.41            -0.83%\n",
              "1222  1723 2014-02-02  775.92            -5.54             -0.7%"
            ]
          },
          "metadata": {
            "tags": []
          },
          "execution_count": 95
        }
      ]
    },
    {
      "cell_type": "code",
      "metadata": {
        "colab": {
          "base_uri": "https://localhost:8080/"
        },
        "id": "AXdlifUR_3TO",
        "outputId": "a7ed3442-885d-4a07-d403-b0a63c0f172b"
      },
      "source": [
        "resultdf.isna().sum()"
      ],
      "execution_count": 101,
      "outputs": [
        {
          "output_type": "execute_result",
          "data": {
            "text/plain": [
              "S.N.                 0\n",
              "Date                 0\n",
              "Index                0\n",
              "Absolute Change      0\n",
              "Percentage Change    0\n",
              "dtype: int64"
            ]
          },
          "metadata": {
            "tags": []
          },
          "execution_count": 101
        }
      ]
    },
    {
      "cell_type": "code",
      "metadata": {
        "colab": {
          "base_uri": "https://localhost:8080/",
          "height": 297
        },
        "id": "kPw4eCcqL2VR",
        "outputId": "6a62a779-34da-4d3d-ed60-5940032de4c8"
      },
      "source": [
        "resultdf.describe()"
      ],
      "execution_count": 103,
      "outputs": [
        {
          "output_type": "execute_result",
          "data": {
            "text/html": [
              "<div>\n",
              "<style scoped>\n",
              "    .dataframe tbody tr th:only-of-type {\n",
              "        vertical-align: middle;\n",
              "    }\n",
              "\n",
              "    .dataframe tbody tr th {\n",
              "        vertical-align: top;\n",
              "    }\n",
              "\n",
              "    .dataframe thead th {\n",
              "        text-align: right;\n",
              "    }\n",
              "</style>\n",
              "<table border=\"1\" class=\"dataframe\">\n",
              "  <thead>\n",
              "    <tr style=\"text-align: right;\">\n",
              "      <th></th>\n",
              "      <th>S.N.</th>\n",
              "      <th>Absolute Change</th>\n",
              "    </tr>\n",
              "  </thead>\n",
              "  <tbody>\n",
              "    <tr>\n",
              "      <th>count</th>\n",
              "      <td>1723.000000</td>\n",
              "      <td>1723.000000</td>\n",
              "    </tr>\n",
              "    <tr>\n",
              "      <th>mean</th>\n",
              "      <td>862.000000</td>\n",
              "      <td>1.395119</td>\n",
              "    </tr>\n",
              "    <tr>\n",
              "      <th>std</th>\n",
              "      <td>497.531574</td>\n",
              "      <td>19.067584</td>\n",
              "    </tr>\n",
              "    <tr>\n",
              "      <th>min</th>\n",
              "      <td>1.000000</td>\n",
              "      <td>-123.340000</td>\n",
              "    </tr>\n",
              "    <tr>\n",
              "      <th>25%</th>\n",
              "      <td>431.500000</td>\n",
              "      <td>-6.690000</td>\n",
              "    </tr>\n",
              "    <tr>\n",
              "      <th>50%</th>\n",
              "      <td>862.000000</td>\n",
              "      <td>0.030000</td>\n",
              "    </tr>\n",
              "    <tr>\n",
              "      <th>75%</th>\n",
              "      <td>1292.500000</td>\n",
              "      <td>8.585000</td>\n",
              "    </tr>\n",
              "    <tr>\n",
              "      <th>max</th>\n",
              "      <td>1723.000000</td>\n",
              "      <td>95.460000</td>\n",
              "    </tr>\n",
              "  </tbody>\n",
              "</table>\n",
              "</div>"
            ],
            "text/plain": [
              "              S.N.  Absolute Change\n",
              "count  1723.000000      1723.000000\n",
              "mean    862.000000         1.395119\n",
              "std     497.531574        19.067584\n",
              "min       1.000000      -123.340000\n",
              "25%     431.500000        -6.690000\n",
              "50%     862.000000         0.030000\n",
              "75%    1292.500000         8.585000\n",
              "max    1723.000000        95.460000"
            ]
          },
          "metadata": {
            "tags": []
          },
          "execution_count": 103
        }
      ]
    },
    {
      "cell_type": "code",
      "metadata": {
        "colab": {
          "base_uri": "https://localhost:8080/",
          "height": 297
        },
        "id": "VE0XUzCnPzie",
        "outputId": "d93beb26-443f-46b8-bfc7-b60b2bc564a6"
      },
      "source": [
        "resultdf=resultdf.drop_duplicates(subset=['Date'])\n",
        "resultdf.describe()"
      ],
      "execution_count": 105,
      "outputs": [
        {
          "output_type": "execute_result",
          "data": {
            "text/html": [
              "<div>\n",
              "<style scoped>\n",
              "    .dataframe tbody tr th:only-of-type {\n",
              "        vertical-align: middle;\n",
              "    }\n",
              "\n",
              "    .dataframe tbody tr th {\n",
              "        vertical-align: top;\n",
              "    }\n",
              "\n",
              "    .dataframe thead th {\n",
              "        text-align: right;\n",
              "    }\n",
              "</style>\n",
              "<table border=\"1\" class=\"dataframe\">\n",
              "  <thead>\n",
              "    <tr style=\"text-align: right;\">\n",
              "      <th></th>\n",
              "      <th>S.N.</th>\n",
              "      <th>Absolute Change</th>\n",
              "    </tr>\n",
              "  </thead>\n",
              "  <tbody>\n",
              "    <tr>\n",
              "      <th>count</th>\n",
              "      <td>1680.000000</td>\n",
              "      <td>1680.000000</td>\n",
              "    </tr>\n",
              "    <tr>\n",
              "      <th>mean</th>\n",
              "      <td>870.702381</td>\n",
              "      <td>1.333571</td>\n",
              "    </tr>\n",
              "    <tr>\n",
              "      <th>std</th>\n",
              "      <td>500.836234</td>\n",
              "      <td>19.234302</td>\n",
              "    </tr>\n",
              "    <tr>\n",
              "      <th>min</th>\n",
              "      <td>1.000000</td>\n",
              "      <td>-123.340000</td>\n",
              "    </tr>\n",
              "    <tr>\n",
              "      <th>25%</th>\n",
              "      <td>420.750000</td>\n",
              "      <td>-6.812500</td>\n",
              "    </tr>\n",
              "    <tr>\n",
              "      <th>50%</th>\n",
              "      <td>883.500000</td>\n",
              "      <td>0.000000</td>\n",
              "    </tr>\n",
              "    <tr>\n",
              "      <th>75%</th>\n",
              "      <td>1303.250000</td>\n",
              "      <td>8.582500</td>\n",
              "    </tr>\n",
              "    <tr>\n",
              "      <th>max</th>\n",
              "      <td>1723.000000</td>\n",
              "      <td>95.460000</td>\n",
              "    </tr>\n",
              "  </tbody>\n",
              "</table>\n",
              "</div>"
            ],
            "text/plain": [
              "              S.N.  Absolute Change\n",
              "count  1680.000000      1680.000000\n",
              "mean    870.702381         1.333571\n",
              "std     500.836234        19.234302\n",
              "min       1.000000      -123.340000\n",
              "25%     420.750000        -6.812500\n",
              "50%     883.500000         0.000000\n",
              "75%    1303.250000         8.582500\n",
              "max    1723.000000        95.460000"
            ]
          },
          "metadata": {
            "tags": []
          },
          "execution_count": 105
        }
      ]
    },
    {
      "cell_type": "code",
      "metadata": {
        "colab": {
          "base_uri": "https://localhost:8080/"
        },
        "id": "nZoCX47nP6zh",
        "outputId": "3a893b76-b25e-4d4b-b0c5-a946dfac99d2"
      },
      "source": [
        "print(' resultdf will be our working df ')"
      ],
      "execution_count": 108,
      "outputs": [
        {
          "output_type": "stream",
          "text": [
            " resultdf will be our working df \n"
          ],
          "name": "stdout"
        }
      ]
    }
  ]
}